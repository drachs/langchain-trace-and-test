{
 "cells": [
  {
   "cell_type": "markdown",
   "id": "e9d8f40d-0f6a-4d5a-ba9d-f78a8666fd3f",
   "metadata": {},
   "source": [
    "# Jupyter notebook support\n",
    "\n",
    "This demonstrates usage of the visualizer inside a Jupyter notebook. **Make sure to import the `visualize` function from `langchain_visualizer.jupyter` instead.**\n",
    "\n",
    "As noted in the example, you can customize the width and height of the displayed window if you so wish to."
   ]
  },
  {
   "cell_type": "code",
   "execution_count": 1,
   "id": "b0cca3ab",
   "metadata": {},
   "outputs": [
    {
     "name": "stdout",
     "output_type": "stream",
     "text": [
      "Requirement already satisfied: langchain-visualizer in /usr/local/lib/python3.10/dist-packages (0.0.19)\n",
      "Requirement already satisfied: gorilla<0.5.0,>=0.4.0 in /usr/local/lib/python3.10/dist-packages (from langchain-visualizer) (0.4.0)\n",
      "Requirement already satisfied: ought-ice<0.6.0,>=0.5.0 in /usr/local/lib/python3.10/dist-packages (from langchain-visualizer) (0.5.0)\n",
      "Requirement already satisfied: langchain<0.0.131,>=0.0.130 in /usr/local/lib/python3.10/dist-packages (from langchain-visualizer) (0.0.130)\n",
      "Requirement already satisfied: SQLAlchemy<2,>=1 in /usr/local/lib/python3.10/dist-packages (from langchain<0.0.131,>=0.0.130->langchain-visualizer) (1.4.47)\n",
      "Requirement already satisfied: dataclasses-json<0.6.0,>=0.5.7 in /usr/local/lib/python3.10/dist-packages (from langchain<0.0.131,>=0.0.130->langchain-visualizer) (0.5.7)\n",
      "Requirement already satisfied: aiohttp<4.0.0,>=3.8.3 in /usr/local/lib/python3.10/dist-packages (from langchain<0.0.131,>=0.0.130->langchain-visualizer) (3.8.4)\n",
      "Requirement already satisfied: PyYAML>=5.4.1 in /usr/local/lib/python3.10/dist-packages (from langchain<0.0.131,>=0.0.130->langchain-visualizer) (6.0)\n",
      "Requirement already satisfied: pydantic<2,>=1 in /usr/local/lib/python3.10/dist-packages (from langchain<0.0.131,>=0.0.130->langchain-visualizer) (1.10.7)\n",
      "Requirement already satisfied: tenacity<9.0.0,>=8.1.0 in /usr/local/lib/python3.10/dist-packages (from langchain<0.0.131,>=0.0.130->langchain-visualizer) (8.2.2)\n",
      "Requirement already satisfied: requests<3,>=2 in /usr/local/lib/python3.10/dist-packages (from langchain<0.0.131,>=0.0.130->langchain-visualizer) (2.28.2)\n",
      "Requirement already satisfied: numpy<2,>=1 in /usr/local/lib/python3.10/dist-packages (from langchain<0.0.131,>=0.0.130->langchain-visualizer) (1.23.5)\n",
      "Requirement already satisfied: python-Levenshtein in /usr/local/lib/python3.10/dist-packages (from ought-ice<0.6.0,>=0.5.0->langchain-visualizer) (0.20.9)\n",
      "Requirement already satisfied: tqdm in /usr/local/lib/python3.10/dist-packages (from ought-ice<0.6.0,>=0.5.0->langchain-visualizer) (4.65.0)\n",
      "Requirement already satisfied: pandas in /usr/local/lib/python3.10/dist-packages (from ought-ice<0.6.0,>=0.5.0->langchain-visualizer) (1.5.3)\n",
      "Requirement already satisfied: fastapi in /usr/local/lib/python3.10/dist-packages (from ought-ice<0.6.0,>=0.5.0->langchain-visualizer) (0.95.0)\n",
      "Requirement already satisfied: transformers in /usr/local/lib/python3.10/dist-packages (from ought-ice<0.6.0,>=0.5.0->langchain-visualizer) (4.27.4)\n",
      "Requirement already satisfied: python-ulid in /usr/local/lib/python3.10/dist-packages (from ought-ice<0.6.0,>=0.5.0->langchain-visualizer) (1.1.0)\n",
      "Requirement already satisfied: fvalues in /usr/local/lib/python3.10/dist-packages (from ought-ice<0.6.0,>=0.5.0->langchain-visualizer) (0.0.3)\n",
      "Requirement already satisfied: faker in /usr/local/lib/python3.10/dist-packages (from ought-ice<0.6.0,>=0.5.0->langchain-visualizer) (18.4.0)\n",
      "Requirement already satisfied: python-dotenv in /usr/local/lib/python3.10/dist-packages (from ought-ice<0.6.0,>=0.5.0->langchain-visualizer) (1.0.0)\n",
      "Requirement already satisfied: rich in /usr/local/lib/python3.10/dist-packages (from ought-ice<0.6.0,>=0.5.0->langchain-visualizer) (13.0.1)\n",
      "Requirement already satisfied: questionary in /usr/local/lib/python3.10/dist-packages (from ought-ice<0.6.0,>=0.5.0->langchain-visualizer) (1.10.0)\n",
      "Requirement already satisfied: typing-extensions in /usr/local/lib/python3.10/dist-packages (from ought-ice<0.6.0,>=0.5.0->langchain-visualizer) (4.5.0)\n",
      "Requirement already satisfied: numerizer in /usr/local/lib/python3.10/dist-packages (from ought-ice<0.6.0,>=0.5.0->langchain-visualizer) (0.2.2)\n",
      "Requirement already satisfied: structlog in /usr/local/lib/python3.10/dist-packages (from ought-ice<0.6.0,>=0.5.0->langchain-visualizer) (23.1.0)\n",
      "Requirement already satisfied: thefuzz in /usr/local/lib/python3.10/dist-packages (from ought-ice<0.6.0,>=0.5.0->langchain-visualizer) (0.19.0)\n",
      "Requirement already satisfied: uvicorn in /usr/local/lib/python3.10/dist-packages (from ought-ice<0.6.0,>=0.5.0->langchain-visualizer) (0.21.1)\n",
      "Requirement already satisfied: rouge-metric in /usr/local/lib/python3.10/dist-packages (from ought-ice<0.6.0,>=0.5.0->langchain-visualizer) (1.0.1)\n",
      "Requirement already satisfied: nltk in /usr/local/lib/python3.10/dist-packages (from ought-ice<0.6.0,>=0.5.0->langchain-visualizer) (3.8.1)\n",
      "Requirement already satisfied: merge-args in /usr/local/lib/python3.10/dist-packages (from ought-ice<0.6.0,>=0.5.0->langchain-visualizer) (0.1.5)\n",
      "Requirement already satisfied: defopt in /usr/local/lib/python3.10/dist-packages (from ought-ice<0.6.0,>=0.5.0->langchain-visualizer) (6.4.0)\n",
      "Requirement already satisfied: more-itertools in /usr/local/lib/python3.10/dist-packages (from ought-ice<0.6.0,>=0.5.0->langchain-visualizer) (9.1.0)\n",
      "Requirement already satisfied: scikit-learn in /usr/local/lib/python3.10/dist-packages (from ought-ice<0.6.0,>=0.5.0->langchain-visualizer) (1.2.2)\n",
      "Requirement already satisfied: matplotlib in /usr/local/lib/python3.10/dist-packages (from ought-ice<0.6.0,>=0.5.0->langchain-visualizer) (3.7.1)\n",
      "Requirement already satisfied: ruamel.yaml in /usr/local/lib/python3.10/dist-packages (from ought-ice<0.6.0,>=0.5.0->langchain-visualizer) (0.17.21)\n",
      "Requirement already satisfied: websockets in /usr/local/lib/python3.10/dist-packages (from ought-ice<0.6.0,>=0.5.0->langchain-visualizer) (11.0.1)\n",
      "Requirement already satisfied: httpx in /usr/local/lib/python3.10/dist-packages (from ought-ice<0.6.0,>=0.5.0->langchain-visualizer) (0.23.3)\n",
      "Requirement already satisfied: nest-asyncio in /usr/local/lib/python3.10/dist-packages (from ought-ice<0.6.0,>=0.5.0->langchain-visualizer) (1.5.6)\n",
      "Requirement already satisfied: attrs>=17.3.0 in /usr/local/lib/python3.10/dist-packages (from aiohttp<4.0.0,>=3.8.3->langchain<0.0.131,>=0.0.130->langchain-visualizer) (22.2.0)\n",
      "Requirement already satisfied: yarl<2.0,>=1.0 in /usr/local/lib/python3.10/dist-packages (from aiohttp<4.0.0,>=3.8.3->langchain<0.0.131,>=0.0.130->langchain-visualizer) (1.8.2)\n",
      "Requirement already satisfied: async-timeout<5.0,>=4.0.0a3 in /usr/local/lib/python3.10/dist-packages (from aiohttp<4.0.0,>=3.8.3->langchain<0.0.131,>=0.0.130->langchain-visualizer) (4.0.2)\n",
      "Requirement already satisfied: frozenlist>=1.1.1 in /usr/local/lib/python3.10/dist-packages (from aiohttp<4.0.0,>=3.8.3->langchain<0.0.131,>=0.0.130->langchain-visualizer) (1.3.3)\n",
      "Requirement already satisfied: multidict<7.0,>=4.5 in /usr/local/lib/python3.10/dist-packages (from aiohttp<4.0.0,>=3.8.3->langchain<0.0.131,>=0.0.130->langchain-visualizer) (6.0.4)\n",
      "Requirement already satisfied: charset-normalizer<4.0,>=2.0 in /usr/local/lib/python3.10/dist-packages (from aiohttp<4.0.0,>=3.8.3->langchain<0.0.131,>=0.0.130->langchain-visualizer) (3.1.0)\n",
      "Requirement already satisfied: aiosignal>=1.1.2 in /usr/local/lib/python3.10/dist-packages (from aiohttp<4.0.0,>=3.8.3->langchain<0.0.131,>=0.0.130->langchain-visualizer) (1.3.1)\n",
      "Requirement already satisfied: marshmallow<4.0.0,>=3.3.0 in /usr/local/lib/python3.10/dist-packages (from dataclasses-json<0.6.0,>=0.5.7->langchain<0.0.131,>=0.0.130->langchain-visualizer) (3.19.0)\n",
      "Requirement already satisfied: marshmallow-enum<2.0.0,>=1.5.1 in /usr/local/lib/python3.10/dist-packages (from dataclasses-json<0.6.0,>=0.5.7->langchain<0.0.131,>=0.0.130->langchain-visualizer) (1.5.1)\n",
      "Requirement already satisfied: typing-inspect>=0.4.0 in /usr/local/lib/python3.10/dist-packages (from dataclasses-json<0.6.0,>=0.5.7->langchain<0.0.131,>=0.0.130->langchain-visualizer) (0.8.0)\n",
      "Requirement already satisfied: idna<4,>=2.5 in /usr/local/lib/python3.10/dist-packages (from requests<3,>=2->langchain<0.0.131,>=0.0.130->langchain-visualizer) (3.4)\n",
      "Requirement already satisfied: certifi>=2017.4.17 in /usr/local/lib/python3.10/dist-packages (from requests<3,>=2->langchain<0.0.131,>=0.0.130->langchain-visualizer) (2022.12.7)\n",
      "Requirement already satisfied: urllib3<1.27,>=1.21.1 in /usr/local/lib/python3.10/dist-packages (from requests<3,>=2->langchain<0.0.131,>=0.0.130->langchain-visualizer) (1.26.15)\n",
      "Requirement already satisfied: greenlet!=0.4.17 in /usr/local/lib/python3.10/dist-packages (from SQLAlchemy<2,>=1->langchain<0.0.131,>=0.0.130->langchain-visualizer) (2.0.2)\n",
      "Requirement already satisfied: docutils>=0.12 in /usr/local/lib/python3.10/dist-packages (from defopt->ought-ice<0.6.0,>=0.5.0->langchain-visualizer) (0.19)\n",
      "Requirement already satisfied: sphinxcontrib-napoleon>=0.7.0 in /usr/local/lib/python3.10/dist-packages (from defopt->ought-ice<0.6.0,>=0.5.0->langchain-visualizer) (0.7)\n",
      "Requirement already satisfied: python-dateutil>=2.4 in /usr/local/lib/python3.10/dist-packages (from faker->ought-ice<0.6.0,>=0.5.0->langchain-visualizer) (2.8.2)\n"
     ]
    },
    {
     "name": "stdout",
     "output_type": "stream",
     "text": [
      "Requirement already satisfied: starlette<0.27.0,>=0.26.1 in /usr/local/lib/python3.10/dist-packages (from fastapi->ought-ice<0.6.0,>=0.5.0->langchain-visualizer) (0.26.1)\n",
      "Requirement already satisfied: executing in /usr/local/lib/python3.10/dist-packages (from fvalues->ought-ice<0.6.0,>=0.5.0->langchain-visualizer) (1.2.0)\n",
      "Requirement already satisfied: sniffio in /usr/local/lib/python3.10/dist-packages (from httpx->ought-ice<0.6.0,>=0.5.0->langchain-visualizer) (1.3.0)\n",
      "Requirement already satisfied: rfc3986[idna2008]<2,>=1.3 in /usr/local/lib/python3.10/dist-packages (from httpx->ought-ice<0.6.0,>=0.5.0->langchain-visualizer) (1.5.0)\n",
      "Requirement already satisfied: httpcore<0.17.0,>=0.15.0 in /usr/local/lib/python3.10/dist-packages (from httpx->ought-ice<0.6.0,>=0.5.0->langchain-visualizer) (0.16.3)\n",
      "Requirement already satisfied: packaging>=20.0 in /usr/local/lib/python3.10/dist-packages (from matplotlib->ought-ice<0.6.0,>=0.5.0->langchain-visualizer) (23.0)\n",
      "Requirement already satisfied: contourpy>=1.0.1 in /usr/local/lib/python3.10/dist-packages (from matplotlib->ought-ice<0.6.0,>=0.5.0->langchain-visualizer) (1.0.7)\n",
      "Requirement already satisfied: pyparsing>=2.3.1 in /usr/local/lib/python3.10/dist-packages (from matplotlib->ought-ice<0.6.0,>=0.5.0->langchain-visualizer) (3.0.9)\n",
      "Requirement already satisfied: cycler>=0.10 in /usr/local/lib/python3.10/dist-packages (from matplotlib->ought-ice<0.6.0,>=0.5.0->langchain-visualizer) (0.11.0)\n",
      "Requirement already satisfied: pillow>=6.2.0 in /usr/local/lib/python3.10/dist-packages (from matplotlib->ought-ice<0.6.0,>=0.5.0->langchain-visualizer) (9.5.0)\n",
      "Requirement already satisfied: fonttools>=4.22.0 in /usr/local/lib/python3.10/dist-packages (from matplotlib->ought-ice<0.6.0,>=0.5.0->langchain-visualizer) (4.39.3)\n",
      "Requirement already satisfied: kiwisolver>=1.0.1 in /usr/local/lib/python3.10/dist-packages (from matplotlib->ought-ice<0.6.0,>=0.5.0->langchain-visualizer) (1.4.4)\n",
      "Requirement already satisfied: joblib in /usr/local/lib/python3.10/dist-packages (from nltk->ought-ice<0.6.0,>=0.5.0->langchain-visualizer) (1.2.0)\n",
      "Requirement already satisfied: click in /usr/local/lib/python3.10/dist-packages (from nltk->ought-ice<0.6.0,>=0.5.0->langchain-visualizer) (8.1.3)\n",
      "Requirement already satisfied: regex>=2021.8.3 in /usr/local/lib/python3.10/dist-packages (from nltk->ought-ice<0.6.0,>=0.5.0->langchain-visualizer) (2023.3.23)\n",
      "Requirement already satisfied: pytz>=2020.1 in /usr/local/lib/python3.10/dist-packages (from pandas->ought-ice<0.6.0,>=0.5.0->langchain-visualizer) (2023.3)\n",
      "Requirement already satisfied: Levenshtein==0.20.9 in /usr/local/lib/python3.10/dist-packages (from python-Levenshtein->ought-ice<0.6.0,>=0.5.0->langchain-visualizer) (0.20.9)\n",
      "Requirement already satisfied: rapidfuzz<3.0.0,>=2.3.0 in /usr/local/lib/python3.10/dist-packages (from Levenshtein==0.20.9->python-Levenshtein->ought-ice<0.6.0,>=0.5.0->langchain-visualizer) (2.15.1)\n",
      "Requirement already satisfied: prompt_toolkit<4.0,>=2.0 in /usr/local/lib/python3.10/dist-packages (from questionary->ought-ice<0.6.0,>=0.5.0->langchain-visualizer) (3.0.38)\n",
      "Requirement already satisfied: commonmark<0.10.0,>=0.9.0 in /usr/local/lib/python3.10/dist-packages (from rich->ought-ice<0.6.0,>=0.5.0->langchain-visualizer) (0.9.1)\n",
      "Requirement already satisfied: pygments<3.0.0,>=2.6.0 in /usr/local/lib/python3.10/dist-packages (from rich->ought-ice<0.6.0,>=0.5.0->langchain-visualizer) (2.15.0)\n",
      "Requirement already satisfied: ruamel.yaml.clib>=0.2.6 in /usr/local/lib/python3.10/dist-packages (from ruamel.yaml->ought-ice<0.6.0,>=0.5.0->langchain-visualizer) (0.2.7)\n",
      "Requirement already satisfied: threadpoolctl>=2.0.0 in /usr/local/lib/python3.10/dist-packages (from scikit-learn->ought-ice<0.6.0,>=0.5.0->langchain-visualizer) (3.1.0)\n",
      "Requirement already satisfied: scipy>=1.3.2 in /usr/local/lib/python3.10/dist-packages (from scikit-learn->ought-ice<0.6.0,>=0.5.0->langchain-visualizer) (1.10.1)\n",
      "Requirement already satisfied: tokenizers!=0.11.3,<0.14,>=0.11.1 in /usr/local/lib/python3.10/dist-packages (from transformers->ought-ice<0.6.0,>=0.5.0->langchain-visualizer) (0.13.3)\n",
      "Requirement already satisfied: huggingface-hub<1.0,>=0.11.0 in /usr/local/lib/python3.10/dist-packages (from transformers->ought-ice<0.6.0,>=0.5.0->langchain-visualizer) (0.13.4)\n",
      "Requirement already satisfied: filelock in /usr/local/lib/python3.10/dist-packages (from transformers->ought-ice<0.6.0,>=0.5.0->langchain-visualizer) (3.11.0)\n",
      "Requirement already satisfied: h11>=0.8 in /usr/local/lib/python3.10/dist-packages (from uvicorn->ought-ice<0.6.0,>=0.5.0->langchain-visualizer) (0.14.0)\n",
      "Requirement already satisfied: anyio<5.0,>=3.0 in /usr/local/lib/python3.10/dist-packages (from httpcore<0.17.0,>=0.15.0->httpx->ought-ice<0.6.0,>=0.5.0->langchain-visualizer) (3.6.2)\n",
      "Requirement already satisfied: wcwidth in /usr/local/lib/python3.10/dist-packages (from prompt_toolkit<4.0,>=2.0->questionary->ought-ice<0.6.0,>=0.5.0->langchain-visualizer) (0.2.6)\n",
      "Requirement already satisfied: six>=1.5 in /usr/local/lib/python3.10/dist-packages (from python-dateutil>=2.4->faker->ought-ice<0.6.0,>=0.5.0->langchain-visualizer) (1.16.0)\n",
      "Requirement already satisfied: pockets>=0.3 in /usr/local/lib/python3.10/dist-packages (from sphinxcontrib-napoleon>=0.7.0->defopt->ought-ice<0.6.0,>=0.5.0->langchain-visualizer) (0.9.1)\n",
      "Requirement already satisfied: mypy-extensions>=0.3.0 in /usr/local/lib/python3.10/dist-packages (from typing-inspect>=0.4.0->dataclasses-json<0.6.0,>=0.5.7->langchain<0.0.131,>=0.0.130->langchain-visualizer) (1.0.0)\n",
      "\u001b[33mWARNING: Running pip as the 'root' user can result in broken permissions and conflicting behaviour with the system package manager. It is recommended to use a virtual environment instead: https://pip.pypa.io/warnings/venv\u001b[0m\u001b[33m\n",
      "\u001b[0m"
     ]
    }
   ],
   "source": [
    "!pip install langchain-visualizer"
   ]
  },
  {
   "cell_type": "code",
   "execution_count": 2,
   "id": "3192e422-2174-4129-a0a7-40a03c068136",
   "metadata": {
    "tags": []
   },
   "outputs": [
    {
     "name": "stderr",
     "output_type": "stream",
     "text": [
      "/usr/local/lib/python3.10/dist-packages/tqdm/auto.py:21: TqdmWarning: IProgress not found. Please update jupyter and ipywidgets. See https://ipywidgets.readthedocs.io/en/stable/user_install.html\n",
      "  from .autonotebook import tqdm as notebook_tqdm\n"
     ]
    },
    {
     "name": "stdout",
     "output_type": "stream",
     "text": [
      "2023-04-11 23:10.52.967585 [info     ] Trace: http://0.0.0.0:8935/traces/01GXS9C717VCX1HRADG8AABF3K\n",
      "\n",
      "\n",
      "\u001b[1m> Entering new AgentExecutor chain...\u001b[0m\n",
      "2023-04-11 23:10.53.116395 [info     ] Starting server, set OUGHT_ICE_AUTO_SERVER=0 to disable.\n",
      "2023-04-11 23:10.53.873553 [info     ] Server started! Run `python -m ice.server stop` to stop it.\n",
      "Rendering http://127.0.0.1:8935/traces/01GXS9C717VCX1HRADG8AABF3K in notebook\n"
     ]
    },
    {
     "data": {
      "text/html": [
       "\n",
       "        <iframe\n",
       "            width=\"1000\"\n",
       "            height=\"500\"\n",
       "            src=\"http://127.0.0.1:8935/traces/01GXS9C717VCX1HRADG8AABF3K\"\n",
       "            frameborder=\"0\"\n",
       "            allowfullscreen\n",
       "            \n",
       "        ></iframe>\n",
       "        "
      ],
      "text/plain": [
       "<IPython.lib.display.IFrame at 0x7f3af236b130>"
      ]
     },
     "execution_count": 2,
     "metadata": {},
     "output_type": "execute_result"
    },
    {
     "name": "stdout",
     "output_type": "stream",
     "text": [
      "\u001b[32;1m\u001b[1;3m I need to find out who Olivia Wilde's boyfriend is and then calculate his age raised to the 0.23 power.\n",
      "Action: Search\n",
      "Action Input: \"Olivia Wilde boyfriend\"\u001b[0m\n",
      "Observation: \u001b[36;1m\u001b[1;3mOlivia Wilde started dating Harry Styles after ending her years-long engagement to Jason Sudeikis — see their relationship timeline.\u001b[0m\n",
      "Thought:\u001b[32;1m\u001b[1;3m I need to find out Harry Styles' age.\n",
      "Action: Search\n",
      "Action Input: \"Harry Styles age\"\u001b[0m\n",
      "Observation: \u001b[36;1m\u001b[1;3m29 years\u001b[0m\n",
      "Thought:\u001b[32;1m\u001b[1;3m I need to calculate 29 raised to the 0.23 power.\n",
      "Action: Calculator\n",
      "Action Input: 29^0.23\u001b[0m\n",
      "Observation: \u001b[33;1m\u001b[1;3mAnswer: 2.169459462491557\n",
      "\u001b[0m\n",
      "Thought:\u001b[32;1m\u001b[1;3m I now know the final answer.\n",
      "Final Answer: Harry Styles, Olivia Wilde's boyfriend, is 29 years old and his age raised to the 0.23 power is 2.169459462491557.\u001b[0m\n",
      "\n",
      "\u001b[1m> Finished chain.\u001b[0m\n",
      "Harry Styles, Olivia Wilde's boyfriend, is \u001b[1;36m29\u001b[0m years old and his age raised to the \u001b[1;36m0.23\u001b[0m power is \u001b[1;36m2.169459462491557\u001b[0m.\n"
     ]
    }
   ],
   "source": [
    "from langchain_visualizer.jupyter import visualize\n",
    "from langchain.agents import initialize_agent, load_tools\n",
    "from langchain.llms import OpenAI\n",
    "\n",
    "\n",
    "async def search_agent_demo():\n",
    "    llm = OpenAI(temperature=0)\n",
    "    tools = load_tools([\"serpapi\", \"llm-math\"], llm=llm)\n",
    "    agent = initialize_agent(\n",
    "        tools, llm, agent=\"zero-shot-react-description\", verbose=True\n",
    "    )\n",
    "    return agent.run(\n",
    "        \"Who is Olivia Wilde's boyfriend? What is his current age raised to the 0.23 \"\n",
    "        \"power?\"\n",
    "    )\n",
    "\n",
    "# you don't have to specify width and height\n",
    "# but if you do, you can change the size of the rendered window\n",
    "visualize(search_agent_demo, width=1000, height=500)"
   ]
  },
  {
   "cell_type": "code",
   "execution_count": null,
   "id": "e5ae646c",
   "metadata": {},
   "outputs": [],
   "source": []
  }
 ],
 "metadata": {
  "kernelspec": {
   "display_name": "Python 3 (ipykernel)",
   "language": "python",
   "name": "python3"
  },
  "language_info": {
   "codemirror_mode": {
    "name": "ipython",
    "version": 3
   },
   "file_extension": ".py",
   "mimetype": "text/x-python",
   "name": "python",
   "nbconvert_exporter": "python",
   "pygments_lexer": "ipython3",
   "version": "3.10.6"
  }
 },
 "nbformat": 4,
 "nbformat_minor": 5
}
