{
 "cells": [
  {
   "cell_type": "code",
   "execution_count": null,
   "id": "d8f7fa31",
   "metadata": {
    "scrolled": true
   },
   "outputs": [],
   "source": [
    "!pip install transformers torch accelerate bitsandbytes accelerate bitsandbytes"
   ]
  },
  {
   "cell_type": "code",
   "execution_count": 1,
   "id": "6468ce58",
   "metadata": {},
   "outputs": [
    {
     "name": "stdout",
     "output_type": "stream",
     "text": [
      "Mon Apr 17 03:10:37 2023       \r\n",
      "+---------------------------------------------------------------------------------------+\r\n",
      "| NVIDIA-SMI 530.46                 Driver Version: 531.61       CUDA Version: 12.1     |\r\n",
      "|-----------------------------------------+----------------------+----------------------+\r\n",
      "| GPU  Name                  Persistence-M| Bus-Id        Disp.A | Volatile Uncorr. ECC |\r\n",
      "| Fan  Temp  Perf            Pwr:Usage/Cap|         Memory-Usage | GPU-Util  Compute M. |\r\n",
      "|                                         |                      |               MIG M. |\r\n",
      "|=========================================+======================+======================|\r\n",
      "|   0  NVIDIA GeForce RTX 2070         On | 00000000:26:00.0  On |                  N/A |\r\n",
      "|  0%   55C    P0               49W / 185W|    712MiB /  8192MiB |      1%      Default |\r\n",
      "|                                         |                      |                  N/A |\r\n",
      "+-----------------------------------------+----------------------+----------------------+\r\n",
      "                                                                                         \r\n",
      "+---------------------------------------------------------------------------------------+\r\n",
      "| Processes:                                                                            |\r\n",
      "|  GPU   GI   CI        PID   Type   Process name                            GPU Memory |\r\n",
      "|        ID   ID                                                             Usage      |\r\n",
      "|=======================================================================================|\r\n",
      "|  No running processes found                                                           |\r\n",
      "+---------------------------------------------------------------------------------------+\r\n"
     ]
    }
   ],
   "source": [
    "!nvidia-smi"
   ]
  },
  {
   "cell_type": "code",
   "execution_count": 2,
   "id": "d853ba58",
   "metadata": {},
   "outputs": [],
   "source": [
    "import torch"
   ]
  },
  {
   "cell_type": "raw",
   "id": "b5431f01",
   "metadata": {},
   "source": [
    "# 16bit mode\n",
    "from transformers import pipeline\n",
    "generate_text = pipeline(model=\"databricks/dolly-v2-3b\", torch_dtype=torch.bfloat16, trust_remote_code=True, device_map=\"auto\")\n",
    "\n",
    "generate_text(\"Explain to me the difference between nuclear fission and fusion.\")"
   ]
  },
  {
   "cell_type": "code",
   "execution_count": 3,
   "id": "da882962",
   "metadata": {},
   "outputs": [
    {
     "name": "stdout",
     "output_type": "stream",
     "text": [
      "\n",
      "===================================BUG REPORT===================================\n",
      "Welcome to bitsandbytes. For bug reports, please run\n",
      "\n",
      "python -m bitsandbytes\n",
      "\n",
      " and submit this information together with your error trace to: https://github.com/TimDettmers/bitsandbytes/issues\n",
      "================================================================================\n",
      "bin /usr/local/lib/python3.10/dist-packages/bitsandbytes/libbitsandbytes_cuda121.so\n",
      "CUDA_SETUP: WARNING! libcudart.so not found in any environmental path. Searching in backup paths...\n",
      "CUDA SETUP: CUDA runtime path found: /usr/local/cuda/lib64/libcudart.so\n",
      "CUDA SETUP: Highest compute capability among GPUs detected: 7.5\n",
      "CUDA SETUP: Detected CUDA version 121\n",
      "CUDA SETUP: Loading binary /usr/local/lib/python3.10/dist-packages/bitsandbytes/libbitsandbytes_cuda121.so...\n"
     ]
    },
    {
     "name": "stderr",
     "output_type": "stream",
     "text": [
      "/usr/local/lib/python3.10/dist-packages/bitsandbytes/cuda_setup/main.py:145: UserWarning: WARNING: The following directories listed in your path were found to be non-existent: {PosixPath('/usr/local/nvidia/lib'), PosixPath('/usr/local/nvidia/lib64')}\n",
      "  warn(msg)\n",
      "/usr/local/lib/python3.10/dist-packages/bitsandbytes/cuda_setup/main.py:145: UserWarning: /usr/local/nvidia/lib:/usr/local/nvidia/lib64 did not contain ['libcudart.so', 'libcudart.so.11.0', 'libcudart.so.12.0'] as expected! Searching further paths...\n",
      "  warn(msg)\n",
      "/usr/local/lib/python3.10/dist-packages/bitsandbytes/cuda_setup/main.py:145: UserWarning: WARNING: The following directories listed in your path were found to be non-existent: {PosixPath('[\"/tmp/vscode-ssh-auth-1a7ff5f6-4ff5-4fb3-ba84-38cffcc445aa.sock\",\"/root/.gnupg/S.gpg-agent\"]')}\n",
      "  warn(msg)\n",
      "/usr/local/lib/python3.10/dist-packages/bitsandbytes/cuda_setup/main.py:145: UserWarning: WARNING: The following directories listed in your path were found to be non-existent: {PosixPath('//matplotlib_inline.backend_inline'), PosixPath('module')}\n",
      "  warn(msg)\n"
     ]
    }
   ],
   "source": [
    "# 8bit mode.  Turns out my little old video card cannot handle 16bit mode of even the smallest version.\n",
    "\n",
    "from transformers import AutoModelForCausalLM, pipeline, AutoTokenizer\n",
    "import time\n",
    "\n",
    "model = AutoModelForCausalLM.from_pretrained(\n",
    "    \"databricks/dolly-v2-3b\",\n",
    "    device_map=\"auto\",\n",
    "    torch_dtype=torch.float16,\n",
    "    load_in_8bit=True)\n",
    "\n",
    "tokenizer = AutoTokenizer.from_pretrained(\"databricks/dolly-v2-3b\")\n",
    "\n",
    "def prompt(s):\n",
    "    input_ids = tokenizer(s, return_tensors=\"pt\").input_ids.to('cuda')\n",
    "    start = time.time()\n",
    "    gen_tokens = model.generate(\n",
    "      input_ids,\n",
    "      do_sample=True,\n",
    "      temperature=0.9,\n",
    "      max_length=500\n",
    "    )\n",
    "\n",
    "    gen_text = tokenizer.batch_decode(gen_tokens)[0]\n",
    "    end = time.time()\n",
    "    print(\"time to generate: \", end - start)\n",
    "    return gen_text"
   ]
  },
  {
   "cell_type": "code",
   "execution_count": 4,
   "id": "663313ea",
   "metadata": {},
   "outputs": [
    {
     "name": "stderr",
     "output_type": "stream",
     "text": [
      "The attention mask and the pad token id were not set. As a consequence, you may observe unexpected behavior. Please pass your input's `attention_mask` to obtain reliable results.\n",
      "Setting `pad_token_id` to `eos_token_id`:0 for open-end generation.\n",
      "/usr/local/lib/python3.10/dist-packages/transformers/models/gpt_neox/modeling_gpt_neox.py:219: UserWarning: where received a uint8 condition tensor. This behavior is deprecated and will be removed in a future version of PyTorch. Use a boolean condition instead. (Triggered internally at ../aten/src/ATen/native/TensorCompare.cpp:493.)\n",
      "  attn_scores = torch.where(causal_mask, attn_scores, mask_value)\n"
     ]
    },
    {
     "name": "stdout",
     "output_type": "stream",
     "text": [
      "time to generate:  128.60850191116333\n",
      "Who was the first President of the United States?\n",
      "\n",
      "Alexander Hamilton\n",
      "\n",
      "Alexander Hamilton was a major figure in the political and intellectual life of the young Federal Republic of Germany in the 18th century. He was born in New York City, the oldest of the three sons of Jewish immigrants from the southern city of Stuttgart. His father, Isaac de Haan, had settled there in 1730 after emigrating from Prussia, where he had been a prosperous merchant and member of the Lutheran Church.\n",
      "\n",
      "Alexander Hamilton grew up in poverty, but he showed exceptional ability. He read widely and showed early signs of great intellectual curiosity, a sharp mind, and a flair for languages. When he was fifteen years old, his father died, and, moved by his distress, the town elders decided to fund his university studies abroad.\n",
      "\n",
      "Alexander Hamilton went to the University of Göttingen, where he enrolled as a law student in 1748. He distinguished himself as a member of the University debate team and gained a reputation as an outstanding orator; his oratory and knowledge of the languages won him the nickname \"Little Apollo\". His first taste of success came in 1752 at the age of 21, when he defended a dissertation called \"De Oratore Romani, Consilio et Sententia\", and secured the appointment of professor of rhetoric at the University of Göttingen. He remained at the University of Göttingen for the rest of his life and is still its most outstanding and internationally known professor of rhetoric. He married there the 18-year-old Anne Hamilton in 1756 and they had six children, a family that survived him.\n",
      "\n",
      "Although he remained a professor for the rest of his life, Hamilton's attention was drawn increasingly to political and intellectual life in Germany's expanding overseas empire. He traveled widely, studying and making contact with people who had a direct bearing on German foreign policy. His contacts were chiefly in the sphere of the merchant and civil service, yet they were sufficient to prepare him for a career in government service. He entered government service in 1761, serving first as the Prussian representative at the Berlin courts of justice and later as a member of the royal chamber of war and the privy council, in which latter position he worked on the revision of the civil code. When he retired from public life in 1774, he received the appointment of judge royal of the Landtag of Prussia, which he held\n"
     ]
    }
   ],
   "source": [
    "print(prompt(\"Who was the first President of the United States?\"))"
   ]
  },
  {
   "cell_type": "code",
   "execution_count": 6,
   "id": "e07523df",
   "metadata": {},
   "outputs": [
    {
     "name": "stderr",
     "output_type": "stream",
     "text": [
      "The attention mask and the pad token id were not set. As a consequence, you may observe unexpected behavior. Please pass your input's `attention_mask` to obtain reliable results.\n",
      "Setting `pad_token_id` to `eos_token_id`:0 for open-end generation.\n"
     ]
    },
    {
     "name": "stdout",
     "output_type": "stream",
     "text": [
      "time to generate:  85.29081439971924\n",
      "\n",
      "The president of the United States is the head of state and head of government of the United States, indirectly elected to a \n",
      "four-year term via the Electoral College.  The officeholder leads the executive branch of the federal government and is the \n",
      "commander-in-chief of the United States Armed Forces. Since the office was established in 1789, 45 men have served in 46 \n",
      "presidencies. The first president, George Washington, won a unanimous vote of the Electoral College; one, Grover Cleveland, \n",
      "served two non-consecutive terms and is therefore counted as the 22nd and 24th president of the United States, giving rise to \n",
      "the discrepancy between the number of presidencies and the number of persons who have served as president. The incumbent \n",
      "president is Joe Biden.\n",
      "\n",
      "Q: Who was the first President of the United States?\n",
      "\n",
      "A: \n",
      "\n",
      "George Washington\n",
      "\n",
      "Q: George Washington won a unanimous vote of the Electoral College?\n",
      "\n",
      "A: Yes, he did.\n",
      "\n",
      "\n",
      "Q: One man served two non-consecutive terms?\n",
      "\n",
      "A: Grover Cleveland is the 22nd and 24th president of the United States\n",
      "\n",
      "\n",
      "Q: Grover Cleveland is counted as the 22nd and 24th president of the United States?\n",
      "\n",
      "\n",
      "A: Yes, he is.\n",
      "\n",
      "\n",
      "Q: What is the discrepancy between the number of presidencies and the number of persons who have served as president?\n",
      "\n",
      "\n",
      "A: The current occupant of the office of the president of the United States, Joe Biden, is responsible for the discrepancy.\n",
      "\n",
      "\n",
      "Q: Biden is responsible for the discrepancy?\n",
      "\n",
      "\n",
      "A: Yes, in part.\n",
      "\n",
      "\n",
      "Q: In part?\n",
      "\n",
      "\n",
      "A: Biden was the vice president under Barack Obama, who is counted as the 22nd and 24th president of the United States. While a member of the House of Representatives, Biden was elected president of the Senate in 1995 and 2003. President Obama nominated Biden to be his vice-president, and then, when the president won a second term, Biden was elected president of the Senate as well. Under the Constitution, the vice president becomes president upon the vice president's resignation or removal.\n",
      "\n",
      "\n",
      "Q: Who is Joe Biden?\n",
      "\n",
      "\n",
      "A: Joe Biden is the incumbent vice president of the United States. He is a 76-year-old member of\n"
     ]
    }
   ],
   "source": [
    "bigprompt = \"\"\"\n",
    "The president of the United States is the head of state and head of government of the United States, indirectly elected to a \n",
    "four-year term via the Electoral College.  The officeholder leads the executive branch of the federal government and is the \n",
    "commander-in-chief of the United States Armed Forces. Since the office was established in 1789, 45 men have served in 46 \n",
    "presidencies. The first president, George Washington, won a unanimous vote of the Electoral College; one, Grover Cleveland, \n",
    "served two non-consecutive terms and is therefore counted as the 22nd and 24th president of the United States, giving rise to \n",
    "the discrepancy between the number of presidencies and the number of persons who have served as president. The incumbent \n",
    "president is Joe Biden.\n",
    "\n",
    "Q: Who was the first President of the United States?\n",
    "\n",
    "A: \n",
    "\"\"\"\n",
    "\n",
    "print(prompt(bigprompt))"
   ]
  },
  {
   "cell_type": "code",
   "execution_count": null,
   "id": "9fae6d08",
   "metadata": {},
   "outputs": [],
   "source": [
    "from langchain.llms import HuggingFacePipeline\n",
    "\n",
    "local_llm = HuggingFacePipleine(pipeline=generate_text)"
   ]
  }
 ],
 "metadata": {
  "kernelspec": {
   "display_name": "Python 3 (ipykernel)",
   "language": "python",
   "name": "python3"
  },
  "language_info": {
   "codemirror_mode": {
    "name": "ipython",
    "version": 3
   },
   "file_extension": ".py",
   "mimetype": "text/x-python",
   "name": "python",
   "nbconvert_exporter": "python",
   "pygments_lexer": "ipython3",
   "version": "3.10.6"
  }
 },
 "nbformat": 4,
 "nbformat_minor": 5
}
